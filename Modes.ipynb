{
 "cells": [
  {
   "cell_type": "markdown",
   "metadata": {
    "deletable": true,
    "editable": true
   },
   "source": [
    "<table>\n",
    " <tr align=left><td><img align=left src=\"./images/CC-BY.png\">\n",
    " <td>Text provided under a Creative Commons Attribution license, CC-BY. All code is made available under the FSF-approved MIT license. (c) Marc Spiegelman</td>\n",
    "</table>"
   ]
  },
  {
   "cell_type": "code",
   "execution_count": null,
   "metadata": {
    "collapsed": false,
    "deletable": true,
    "editable": true,
    "slideshow": {
     "slide_type": "skip"
    }
   },
   "outputs": [],
   "source": [
    "import numpy as np\n",
    "import scipy.linalg as la\n",
    "import matplotlib.pyplot as plt\n",
    "%matplotlib inline"
   ]
  },
  {
   "cell_type": "markdown",
   "metadata": {
    "deletable": true,
    "editable": true,
    "slideshow": {
     "slide_type": "slide"
    }
   },
   "source": [
    "# Fun with Fourier modes\n",
    "\n",
    "**GOAL:** visualize some basic behavior of Simple Eigenmodes"
   ]
  },
  {
   "cell_type": "markdown",
   "metadata": {
    "deletable": true,
    "editable": true,
    "slideshow": {
     "slide_type": "slide"
    }
   },
   "source": [
    "### Modes of a square drum\n",
    "\n",
    "Here we will visualize the Fourier Modes for the eigenfunctions of \n",
    "\n",
    "$$-\\nabla^2 \\phi = \\lambda\\phi$$\n",
    "\n",
    "with dirichlet Boundary conditions on the unit square  $\\Omega = [0,1]\\times[0,1]$.  The modes are \n",
    "\n",
    "$$\n",
    "    \\phi_{nm}(x,y)=\\sin(n\\pi x)\\sin(m\\pi y)\n",
    "$$\n",
    "\n",
    "with positive eigenvalues \n",
    "\n",
    "$$\n",
    "    \\lambda_{nm} = \\pi^2(n^2 + m^2)\n",
    "$$"
   ]
  },
  {
   "cell_type": "code",
   "execution_count": null,
   "metadata": {
    "collapsed": false,
    "deletable": true,
    "editable": true,
    "scrolled": false
   },
   "outputs": [],
   "source": [
    "x = np.linspace(0,1,200)\n",
    "X,Y = np.meshgrid(x,x)\n",
    "\n",
    "def seeMode(n,m,X,Y):\n",
    "    phi_nm = lambda n,m: np.sin(n*np.pi*X)*np.sin(m*np.pi*Y)\n",
    "    plt.figure(figsize=(8,6.2))\n",
    "    plt.contourf(X,Y,phi_nm(n,m))\n",
    "    plt.colorbar()\n",
    "    title = '$\\phi_{'+'{},{}'.format(n,m)+'}$'\n",
    "    plt.title(title,fontsize=24)\n",
    "    plt.axis('equal')\n",
    "    plt.show()\n",
    "\n",
    "seeMode(1,1,X,Y)\n",
    "seeMode(1,2,X,Y)\n",
    "seeMode(2,1,X,Y)\n",
    "seeMode(2,2,X,Y)\n",
    "seeMode(10,20,X,Y)\n",
    "\n"
   ]
  },
  {
   "cell_type": "markdown",
   "metadata": {
    "deletable": true,
    "editable": true
   },
   "source": [
    "S## solution of Poisson's Equation with unit forcing\n",
    "\n",
    "solve\n",
    "$$\n",
    "  -\\nabla^2 u = 1\n",
    "$$ \n",
    "on $x\\in[0,1]\\times[0,1]$  with $u=0$ on $\\partial\\Omega$"
   ]
  },
  {
   "cell_type": "code",
   "execution_count": null,
   "metadata": {
    "collapsed": true
   },
   "outputs": [],
   "source": [
    "x = np.linspace(0,1,200)\n",
    "X,Y = np.meshgrid(x,x)\n",
    "    \n",
    "\n",
    "def solvePoisson(N,X,Y,c=0):\n",
    "    phi_nm = lambda n,m: np.sin(n*np.pi*X)*np.sin(m*np.pi*Y)\n",
    "    \n",
    "    u = np.zeros(X.shape)\n",
    "    for n in range(1,N+1):\n",
    "        for m in range(1,N+1):\n",
    "            bnm = 4./(np.pi**2*m*n)*(np.cos(n*np.pi)-1.)*(np.cos(m*np.pi) - 1.)\n",
    "            bnm -= 4.*c*m/n*(np.cos(n*np.pi)-1.)\n",
    "            lambda_nm = np.pi**2*(n*n + m*m)\n",
    "            u += bnm/lambda_nm*phi_nm(n,m)\n",
    "            \n",
    "    return u\n"
   ]
  },
  {
   "cell_type": "code",
   "execution_count": null,
   "metadata": {},
   "outputs": [],
   "source": [
    "N=50\n",
    "u = solvePoisson(N,X,Y)"
   ]
  },
  {
   "cell_type": "code",
   "execution_count": null,
   "metadata": {},
   "outputs": [],
   "source": [
    "plt.figure(figsize=(8,6.2))\n",
    "plt.contourf(X,Y,u)\n",
    "plt.colorbar()\n",
    "title = 'Poisson: $f=1$, N={}, $u_{{max}}={:5.5f}$'.format(N,np.max(u))\n",
    "plt.title(title,fontsize=24)\n",
    "plt.axis('equal')\n",
    "plt.show()"
   ]
  },
  {
   "cell_type": "code",
   "execution_count": null,
   "metadata": {},
   "outputs": [],
   "source": [
    "N=200\n",
    "u = solvePoisson(N,X,Y,c=.1)\n",
    "plt.figure(figsize=(8,6.2))\n",
    "plt.contourf(X,Y,u)\n",
    "plt.colorbar()\n",
    "title = 'Poisson: $f=1$, N={}, $u_{{max}}={:5.5f}$'.format(N,np.max(u))\n",
    "plt.title(title,fontsize=24)\n",
    "plt.axis('equal')\n",
    "plt.show()"
   ]
  }
 ],
 "metadata": {
  "kernelspec": {
   "display_name": "Python 3",
   "language": "python",
   "name": "python3"
  },
  "language_info": {
   "codemirror_mode": {
    "name": "ipython",
    "version": 3
   },
   "file_extension": ".py",
   "mimetype": "text/x-python",
   "name": "python",
   "nbconvert_exporter": "python",
   "pygments_lexer": "ipython3",
   "version": "3.7.1"
  }
 },
 "nbformat": 4,
 "nbformat_minor": 2
}
